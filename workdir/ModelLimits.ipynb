{
 "cells": [
  {
   "cell_type": "code",
   "execution_count": null,
   "metadata": {},
   "outputs": [],
   "source": [
    "import sys\n",
    "sys.path.append(\"/Users/mistryk2/Packages/nudobe/src/\")\n",
    "sys.path.append(\"/Users/mistryk2/Packages/nudobe/\")\n",
    "\n",
    "import numpy as np\n",
    "import nudobe\n",
    "from nudobe import EFT, functions, constants\n",
    "from constants import G_F\n",
    "from functions import *\n",
    "from EFT import LEFT\n",
    "import pandas as pd"
   ]
  },
  {
   "cell_type": "code",
   "execution_count": null,
   "metadata": {},
   "outputs": [],
   "source": [
    "def get_WCs_leptoquark(alpha_SL  = 0,\n",
    "            alpha_VL  = 0,\n",
    "            alpha_SR  = 0,\n",
    "            alpha_VR  = 0,\n",
    "            epsilon_S = 0,\n",
    "            epsilon_V = 0, \n",
    "            M_V       = 1*TeV, \n",
    "            M_S       = 1*TeV\n",
    "           ):\n",
    "    WC_LQ = {}\n",
    "    \n",
    "    #see arXiv: hep-ph/9603213 for the definition of eps_I, alpha_I\n",
    "    WC_LQ[\"SL(6)\"] =  1/(G_F*np.sqrt(2)) * epsilon_V/(M_V**2)\n",
    "    WC_LQ[\"SR(6)\"] =  1/(G_F*np.sqrt(2)) * epsilon_S/(M_S**2)\n",
    "    WC_LQ[\"VL(6)\"] = +1/(G_F*np.sqrt(2)) * np.sqrt(2) * (alpha_SL/(M_S**2) + alpha_VL/(M_V**2))\n",
    "    WC_LQ[\"VR(6)\"] = -1/(G_F*np.sqrt(2)) * (alpha_SR/(M_S**2) + alpha_VR/(M_V**2))\n",
    "\n",
    "    return(WC_LQ)"
   ]
  },
  {
   "cell_type": "code",
   "execution_count": null,
   "metadata": {},
   "outputs": [],
   "source": [
    "KamLAND_limit = 3.6e26\n",
    "\n",
    "limits = {}    \n",
    "limits[\"alpha_SL\"]  = np.sqrt(LEFT(get_WCs(alpha_SL  = 1), method = method).t_half(\"136Xe\")/KamLAND_limit)\n",
    "limits[\"alpha_VL\"]  = np.sqrt(LEFT(get_WCs(alpha_VL  = 1), method = method).t_half(\"136Xe\")/KamLAND_limit)\n",
    "limits[\"alpha_SR\"]  = np.sqrt(LEFT(get_WCs(alpha_SR  = 1), method = method).t_half(\"136Xe\")/KamLAND_limit)\n",
    "limits[\"alpha_VR\"]  = np.sqrt(LEFT(get_WCs(alpha_VR  = 1), method = method).t_half(\"136Xe\")/KamLAND_limit)\n",
    "limits[\"epsilon_S\"] = np.sqrt(LEFT(get_WCs(epsilon_S = 1), method = method).t_half(\"136Xe\")/KamLAND_limit)\n",
    "limits[\"epsilon_V\"] = np.sqrt(LEFT(get_WCs(epsilon_V = 1), method = method).t_half(\"136Xe\")/KamLAND_limit)"
   ]
  }
 ],
 "metadata": {
  "language_info": {
   "name": "python"
  }
 },
 "nbformat": 4,
 "nbformat_minor": 2
}
