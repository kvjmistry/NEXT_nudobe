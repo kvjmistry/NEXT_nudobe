{
 "cells": [
  {
   "cell_type": "code",
   "execution_count": 20,
   "metadata": {},
   "outputs": [],
   "source": [
    "import sys\n",
    "sys.path.append(\"/Users/mistryk2/Packages/nudobe/src/\")\n",
    "sys.path.append(\"/Users/mistryk2/Packages/nudobe/\")\n",
    "\n",
    "import numpy as np\n",
    "import nudobe\n",
    "from nudobe import EFT, functions, constants\n",
    "from constants import G_F\n",
    "from functions import *\n",
    "from EFT import LEFT\n",
    "import pandas as pd"
   ]
  },
  {
   "cell_type": "code",
   "execution_count": 21,
   "metadata": {},
   "outputs": [],
   "source": [
    "def get_WCs_leptoquark(alpha_SL  = 0,\n",
    "            alpha_VL  = 0,\n",
    "            alpha_SR  = 0,\n",
    "            alpha_VR  = 0,\n",
    "            epsilon_S = 0,\n",
    "            epsilon_V = 0, \n",
    "            M_V       = 1*TeV, \n",
    "            M_S       = 1*TeV\n",
    "           ):\n",
    "    WC_LQ = {}\n",
    "    \n",
    "    #see arXiv: hep-ph/9603213 for the definition of eps_I, alpha_I\n",
    "    WC_LQ[\"SL(6)\"] =  1/(G_F*np.sqrt(2)) * epsilon_V/(M_V**2)\n",
    "    WC_LQ[\"SR(6)\"] =  1/(G_F*np.sqrt(2)) * epsilon_S/(M_S**2)\n",
    "    WC_LQ[\"VL(6)\"] = +1/(G_F*np.sqrt(2)) * np.sqrt(2) * (alpha_SL/(M_S**2) + alpha_VL/(M_V**2))\n",
    "    WC_LQ[\"VR(6)\"] = -1/(G_F*np.sqrt(2)) * (alpha_SR/(M_S**2) + alpha_VR/(M_V**2))\n",
    "\n",
    "    return(WC_LQ)"
   ]
  },
  {
   "cell_type": "code",
   "execution_count": 22,
   "metadata": {},
   "outputs": [
    {
     "data": {
      "text/plain": [
       "{'alpha_SL': 9.745206538656799e-09,\n",
       " 'alpha_VL': 9.745206538656799e-09,\n",
       " 'alpha_SR': 1.774691217457988e-06,\n",
       " 'alpha_VR': 1.774691217457988e-06,\n",
       " 'epsilon_S': 3.2101019790992533e-09,\n",
       " 'epsilon_V': 3.2101019790992533e-09}"
      ]
     },
     "metadata": {},
     "output_type": "display_data"
    }
   ],
   "source": [
    "KamLAND_limit = 3.6e26\n",
    "NME=\"SM\"\n",
    "\n",
    "limits = {}    \n",
    "limits[\"alpha_SL\"]  = np.sqrt(LEFT(get_WCs_leptoquark(alpha_SL  = 1), method = NME).t_half(\"136Xe\")/KamLAND_limit)\n",
    "limits[\"alpha_VL\"]  = np.sqrt(LEFT(get_WCs_leptoquark(alpha_VL  = 1), method = NME).t_half(\"136Xe\")/KamLAND_limit)\n",
    "limits[\"alpha_SR\"]  = np.sqrt(LEFT(get_WCs_leptoquark(alpha_SR  = 1), method = NME).t_half(\"136Xe\")/KamLAND_limit)\n",
    "limits[\"alpha_VR\"]  = np.sqrt(LEFT(get_WCs_leptoquark(alpha_VR  = 1), method = NME).t_half(\"136Xe\")/KamLAND_limit)\n",
    "limits[\"epsilon_S\"] = np.sqrt(LEFT(get_WCs_leptoquark(epsilon_S = 1), method = NME).t_half(\"136Xe\")/KamLAND_limit)\n",
    "limits[\"epsilon_V\"] = np.sqrt(LEFT(get_WCs_leptoquark(epsilon_V = 1), method = NME).t_half(\"136Xe\")/KamLAND_limit)\n",
    "\n",
    "display(limits)"
   ]
  },
  {
   "cell_type": "code",
   "execution_count": 23,
   "metadata": {},
   "outputs": [],
   "source": [
    "def get_masses(m_min           = 0, \n",
    "                ordering        = \"NO\", \n",
    "                Majorana_phases = [0,0], \n",
    "                v_R             = 10*TeV, \n",
    "                v_L             = 0.1*eV, \n",
    "                m_heavy         = np.array([10,12,13])*TeV,\n",
    "                theta_L         = 0,\n",
    "               ):\n",
    "    U = U_PMNS(alpha=Majorana_phases)\n",
    "    m = m_min\n",
    "    \n",
    "    if ordering == \"NO\" or ordering == \"NH\":\n",
    "        m1 = m\n",
    "        m2 = np.sqrt(m1**2+m21)\n",
    "        m3 = np.sqrt(m2**2+m32)\n",
    "    elif ordering == \"IO\" or ordering == \"IH\":\n",
    "        m3 = m\n",
    "        m2 = np.sqrt(m3**2-m32IO)\n",
    "        m1 = np.sqrt(m2**2-m21)\n",
    "\n",
    "    \n",
    "    #diagonal light neutrino masses\n",
    "    m_nu = np.diag([m1,m2,m3])*1e-9\n",
    "    \n",
    "    #diagonal heavy neutrino masses\n",
    "    m_nu_R = np.diag(m_heavy)\n",
    "    \n",
    "    #non-diagonal light neutrino mass\n",
    "    M_nu = U@m_nu@U.T\n",
    "    \n",
    "    #non-diagonal heavy neutrino mass\n",
    "    M_nu_R = U@m_nu_R@U.T\n",
    "    \n",
    "    #inverse matrices\n",
    "    M_nu_R_inv = np.linalg.inv(M_nu_R)\n",
    "    \n",
    "    M_nu_R_dagger_inv = np.linalg.inv(M_nu_R.T.conjugate())\n",
    "    \n",
    "    #non-diagonal yukawa matrices\n",
    "    M_R = M_nu_R.T.conjugate()/(np.sqrt(2)*v_R)\n",
    "    M_L = M_R.T.conjugate()\n",
    "    \n",
    "    M_nu_L = (np.sqrt(2) * v_L * np.exp(1j*theta_L) * M_L)\n",
    "    \n",
    "    #get the dirac yukawa matrix eq.57\n",
    "    M_nu_D = U@m_nu_R@scipy.linalg.sqrtm(v_L/v_R*np.exp(1j*theta_L) * np.diag([1,1,1])\n",
    "                                                          - np.linalg.inv(m_nu_R)@m_nu+0j)@U.T\n",
    "    #return results\n",
    "    return(m_nu, m_nu_R, M_nu_R, M_nu_R_inv, M_nu_R_dagger_inv, M_nu_D, M_nu_L)\n",
    "\n",
    "\n",
    "# Gets the Wilson Coeficients at SMEFT\n",
    "def GetWCs_mLRSM(m_min=0, v_R=10*TeV, v_L=0.1*eV, m_heavy=np.array([10,12,13])*TeV, theta_L=0, xi=0):\n",
    "      m_nu, m_nu_R, M_nu_R, M_nu_R_inv, M_nu_R_dagger_inv, M_nu_D, M_nu_L = get_masses(\n",
    "                                                                                    m_min           = 0, \n",
    "                                                                                    ordering        = \"NO\", \n",
    "                                                                                    Majorana_phases = [0,0], \n",
    "                                                                                    v_R             = v_R, \n",
    "                                                                                    v_L             = v_L, \n",
    "                                                                                    m_heavy         = m_heavy,\n",
    "                                                                                    theta_L         = theta_L,\n",
    "                                                                                    )\n",
    "\n",
    "\n",
    "      # SMEFT\n",
    "      C5         = 1/vev**2 * (M_nu_D.T@M_nu_R_inv@M_nu_D-M_nu_L)[0,0]\n",
    "      C_LeudPhi7 = np.sqrt(2)/vev * (1/v_R**2 *(V_ud_R.conjugate()) * M_nu_D.T@M_nu_R_inv)[0,0]\n",
    "      C_LPhiDe7  = 2j * xi*np.exp(1j * alpha) / (1 + xi**2) * C_LeudPhi7 / V_ud_R.conjugate()\n",
    "      C_eeud9    = 0.88 * (-1 / (2 * v_R**4) * V_ud_R**2 * (M_nu_R_dagger_inv + 2 / m_DR**2 * M_nu_R))[0,0]\n",
    "      C_eePhiud9 = -4 * (xi * np.exp(-1j * alpha)) / (1 + xi**2) * C_eeud9/V_ud_R\n",
    "      C_eePhiD9  = 4 * xi**2 * np.exp(-2j * alpha) / ((1 + xi**2)**2) * C_eeud9/V_ud_R**2\n",
    "\n",
    "      return {\"LH(5)\"      : C5, \n",
    "            \"LeudH(7)\"   : C_LeudPhi7, \n",
    "            \"LHDe(7)\"    : C_LPhiDe7, \n",
    "            \"ddueue(9)\"  : 4*np.conj(C_eeud9), \n",
    "            \"deueH2D(9)\" : -2 * np.conj(C_eePhiud9), \n",
    "            \"eeH4D2(9)\"  : -np.conj(C_eePhiD9)\n",
    "            }\n",
    "\n",
    "# Matches SMEFT wilson coeficients down to m_W scale using Table in Appendix A and Matching scheme in Appendix B\n",
    "def GetWCsLEFT_mLRSM(m_min=0, v_R=10*TeV, v_L=0.1*eV, m_heavy=np.array([10,12,13])*TeV, theta_L=0, xi=0):\n",
    "      SMEFT_WCs = GetWCs_mLRSM(0, v_R, v_L, m_heavy, theta_L, xi)\n",
    "\n",
    "      m_bb   = -vev**2 * SMEFT_WCs[\"LH(5)\"]\n",
    "      C_VR6  = (vev**3/np.sqrt(2)) * SMEFT_WCs[\"LeudH(7)\"].conjugate()\n",
    "      C_VL6  = - (vev**3 * 1j) /np.sqrt(2) *V_ud * SMEFT_WCs[\"LHDe(7)\"].conjugate()\n",
    "      C_1R9p = - (vev**5 / 4) *  SMEFT_WCs[\"ddueue(9)\"].conjugate()\n",
    "      C_4R9  = -vev**5 * (V_ud/2) * SMEFT_WCs[\"deueH2D(9)\"].conjugate()\n",
    "      C_1R9  = -vev**5 * (V_ud/2) * SMEFT_WCs[\"eeH4D2(9)\"].conjugate()\n",
    "\n",
    "      return {\n",
    "            \"m_bb\"       : m_bb,\n",
    "            \"VR(6)\"      : C_VR6,\n",
    "            \"VL(6)\"      : C_VL6,\n",
    "            \"1R(9)prime\" : C_1R9p,\n",
    "            \"4R(9)\"      : C_4R9,\n",
    "            \"1R(9)\"      : C_1R9\n",
    "      }"
   ]
  },
  {
   "cell_type": "code",
   "execution_count": 24,
   "metadata": {},
   "outputs": [],
   "source": [
    "# ------- mLRSM ---------\n",
    "#masses\n",
    "v_R  = 10*TeV\n",
    "v_L  = 0.1*eV\n",
    "m_DR = 4*TeV\n",
    "\n",
    "#heavy neutrino masses\n",
    "m_heavy = np.array([10,12,13])*TeV\n",
    "\n",
    "#mixings\n",
    "V_ud_R  = V_ud\n",
    "V_ud_L  = V_ud\n",
    "xi      = m_b/m_t\n",
    "theta_L = 0\n",
    "alpha   = 0"
   ]
  },
  {
   "cell_type": "code",
   "execution_count": 35,
   "metadata": {},
   "outputs": [
    {
     "data": {
      "text/plain": [
       "{'m_min': 10.904192862837492, 'v_R': 10.90240808634651}"
      ]
     },
     "metadata": {},
     "output_type": "display_data"
    }
   ],
   "source": [
    "limits = {}    \n",
    "limits[\"m_min\"]  = np.sqrt(LEFT(GetWCsLEFT_mLRSM(m_min=0, v_R=10*TeV, v_L=0.1*eV, m_heavy=np.array([10,12,13])*TeV, theta_L=0, xi=0), method = NME).t_half(\"136Xe\")/KamLAND_limit)\n",
    "limits[\"v_R\"]    = np.sqrt(LEFT(GetWCsLEFT_mLRSM(m_min=0, v_R=10*TeV, v_L=0.1*eV, m_heavy=np.array([10,12,13])*TeV, theta_L=0, xi=0), method = NME).t_half(\"136Xe\")/KamLAND_limit)\n",
    "\n",
    "display(limits)"
   ]
  }
 ],
 "metadata": {
  "kernelspec": {
   "display_name": "local",
   "language": "python",
   "name": "python3"
  },
  "language_info": {
   "codemirror_mode": {
    "name": "ipython",
    "version": 3
   },
   "file_extension": ".py",
   "mimetype": "text/x-python",
   "name": "python",
   "nbconvert_exporter": "python",
   "pygments_lexer": "ipython3",
   "version": "3.10.2"
  }
 },
 "nbformat": 4,
 "nbformat_minor": 2
}
